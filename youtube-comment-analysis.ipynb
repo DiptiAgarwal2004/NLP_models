{
 "cells": [
  {
   "cell_type": "code",
   "execution_count": 1,
   "id": "144209f7",
   "metadata": {
    "_cell_guid": "b1076dfc-b9ad-4769-8c92-a6c4dae69d19",
    "_uuid": "8f2839f25d086af736a60e9eeb907d3b93b6e0e5",
    "execution": {
     "iopub.execute_input": "2025-01-29T11:13:30.541659Z",
     "iopub.status.busy": "2025-01-29T11:13:30.541105Z",
     "iopub.status.idle": "2025-01-29T11:13:31.545086Z",
     "shell.execute_reply": "2025-01-29T11:13:31.543518Z"
    },
    "papermill": {
     "duration": 1.010537,
     "end_time": "2025-01-29T11:13:31.546958",
     "exception": false,
     "start_time": "2025-01-29T11:13:30.536421",
     "status": "completed"
    },
    "tags": []
   },
   "outputs": [
    {
     "name": "stdout",
     "output_type": "stream",
     "text": [
      "/kaggle/input/youtube-comments-dataset/YoutubeCommentsDataSet.csv\n"
     ]
    }
   ],
   "source": [
    "# This Python 3 environment comes with many helpful analytics libraries installed\n",
    "# It is defined by the kaggle/python Docker image: https://github.com/kaggle/docker-python\n",
    "# For example, here's several helpful packages to load\n",
    "\n",
    "import numpy as np # linear algebra\n",
    "import pandas as pd # data processing, CSV file I/O (e.g. pd.read_csv)\n",
    "\n",
    "# Input data files are available in the read-only \"../input/\" directory\n",
    "# For example, running this (by clicking run or pressing Shift+Enter) will list all files under the input directory\n",
    "\n",
    "import os\n",
    "for dirname, _, filenames in os.walk('/kaggle/input'):\n",
    "    for filename in filenames:\n",
    "        print(os.path.join(dirname, filename))\n",
    "\n",
    "# You can write up to 20GB to the current directory (/kaggle/working/) that gets preserved as output when you create a version using \"Save & Run All\" \n",
    "# You can also write temporary files to /kaggle/temp/, but they won't be saved outside of the current session"
   ]
  },
  {
   "cell_type": "code",
   "execution_count": 2,
   "id": "4df5ee92",
   "metadata": {
    "execution": {
     "iopub.execute_input": "2025-01-29T11:13:31.554971Z",
     "iopub.status.busy": "2025-01-29T11:13:31.554297Z",
     "iopub.status.idle": "2025-01-29T11:13:34.717785Z",
     "shell.execute_reply": "2025-01-29T11:13:34.716490Z"
    },
    "papermill": {
     "duration": 3.169888,
     "end_time": "2025-01-29T11:13:34.720064",
     "exception": false,
     "start_time": "2025-01-29T11:13:31.550176",
     "status": "completed"
    },
    "tags": []
   },
   "outputs": [],
   "source": [
    "# Import necessary libraries\n",
    "import pandas as pd\n",
    "import nltk\n",
    "from nltk.corpus import stopwords\n",
    "from sklearn.model_selection import train_test_split\n",
    "from sklearn.feature_extraction.text import TfidfVectorizer\n",
    "from sklearn.linear_model import LogisticRegression\n",
    "from sklearn.ensemble import RandomForestClassifier\n",
    "from sklearn.naive_bayes import MultinomialNB\n",
    "from sklearn.svm import SVC\n",
    "from xgboost import XGBClassifier\n",
    "from sklearn.metrics import classification_report, accuracy_score"
   ]
  },
  {
   "cell_type": "code",
   "execution_count": 3,
   "id": "fe08d220",
   "metadata": {
    "execution": {
     "iopub.execute_input": "2025-01-29T11:13:34.727870Z",
     "iopub.status.busy": "2025-01-29T11:13:34.727144Z",
     "iopub.status.idle": "2025-01-29T11:13:34.900616Z",
     "shell.execute_reply": "2025-01-29T11:13:34.899508Z"
    },
    "papermill": {
     "duration": 0.179654,
     "end_time": "2025-01-29T11:13:34.902871",
     "exception": false,
     "start_time": "2025-01-29T11:13:34.723217",
     "status": "completed"
    },
    "tags": []
   },
   "outputs": [
    {
     "data": {
      "text/html": [
       "<div>\n",
       "<style scoped>\n",
       "    .dataframe tbody tr th:only-of-type {\n",
       "        vertical-align: middle;\n",
       "    }\n",
       "\n",
       "    .dataframe tbody tr th {\n",
       "        vertical-align: top;\n",
       "    }\n",
       "\n",
       "    .dataframe thead th {\n",
       "        text-align: right;\n",
       "    }\n",
       "</style>\n",
       "<table border=\"1\" class=\"dataframe\">\n",
       "  <thead>\n",
       "    <tr style=\"text-align: right;\">\n",
       "      <th></th>\n",
       "      <th>Comment</th>\n",
       "      <th>Sentiment</th>\n",
       "    </tr>\n",
       "  </thead>\n",
       "  <tbody>\n",
       "    <tr>\n",
       "      <th>0</th>\n",
       "      <td>lets not forget that apple pay in 2014 require...</td>\n",
       "      <td>neutral</td>\n",
       "    </tr>\n",
       "    <tr>\n",
       "      <th>1</th>\n",
       "      <td>here in nz 50 of retailers don’t even have con...</td>\n",
       "      <td>negative</td>\n",
       "    </tr>\n",
       "    <tr>\n",
       "      <th>2</th>\n",
       "      <td>i will forever acknowledge this channel with t...</td>\n",
       "      <td>positive</td>\n",
       "    </tr>\n",
       "    <tr>\n",
       "      <th>3</th>\n",
       "      <td>whenever i go to a place that doesn’t take app...</td>\n",
       "      <td>negative</td>\n",
       "    </tr>\n",
       "    <tr>\n",
       "      <th>4</th>\n",
       "      <td>apple pay is so convenient secure and easy to ...</td>\n",
       "      <td>positive</td>\n",
       "    </tr>\n",
       "  </tbody>\n",
       "</table>\n",
       "</div>"
      ],
      "text/plain": [
       "                                             Comment Sentiment\n",
       "0  lets not forget that apple pay in 2014 require...   neutral\n",
       "1  here in nz 50 of retailers don’t even have con...  negative\n",
       "2  i will forever acknowledge this channel with t...  positive\n",
       "3  whenever i go to a place that doesn’t take app...  negative\n",
       "4  apple pay is so convenient secure and easy to ...  positive"
      ]
     },
     "execution_count": 3,
     "metadata": {},
     "output_type": "execute_result"
    }
   ],
   "source": [
    "# Step 1: Load the dataset (already cleaned it)\n",
    "df = pd.read_csv('/kaggle/input/youtube-comments-dataset/YoutubeCommentsDataSet.csv')\n",
    "\n",
    "df.head()"
   ]
  },
  {
   "cell_type": "code",
   "execution_count": 4,
   "id": "3006fdcf",
   "metadata": {
    "execution": {
     "iopub.execute_input": "2025-01-29T11:13:34.915733Z",
     "iopub.status.busy": "2025-01-29T11:13:34.915286Z",
     "iopub.status.idle": "2025-01-29T11:13:34.936711Z",
     "shell.execute_reply": "2025-01-29T11:13:34.935288Z"
    },
    "papermill": {
     "duration": 0.029047,
     "end_time": "2025-01-29T11:13:34.939168",
     "exception": false,
     "start_time": "2025-01-29T11:13:34.910121",
     "status": "completed"
    },
    "tags": []
   },
   "outputs": [],
   "source": [
    "df = df.dropna(subset=['Comment'])"
   ]
  },
  {
   "cell_type": "code",
   "execution_count": 5,
   "id": "6d12b63b",
   "metadata": {
    "execution": {
     "iopub.execute_input": "2025-01-29T11:13:34.948815Z",
     "iopub.status.busy": "2025-01-29T11:13:34.948456Z",
     "iopub.status.idle": "2025-01-29T11:13:34.970508Z",
     "shell.execute_reply": "2025-01-29T11:13:34.969223Z"
    },
    "papermill": {
     "duration": 0.028463,
     "end_time": "2025-01-29T11:13:34.972252",
     "exception": false,
     "start_time": "2025-01-29T11:13:34.943789",
     "status": "completed"
    },
    "tags": []
   },
   "outputs": [
    {
     "name": "stderr",
     "output_type": "stream",
     "text": [
      "<ipython-input-5-67d89b887734>:2: FutureWarning: Downcasting behavior in `replace` is deprecated and will be removed in a future version. To retain the old behavior, explicitly call `result.infer_objects(copy=False)`. To opt-in to the future behavior, set `pd.set_option('future.no_silent_downcasting', True)`\n",
      "  df['Sentiment'] = df['Sentiment'].replace({'negative': 0, 'neutral': 1, 'positive': 2})\n"
     ]
    },
    {
     "data": {
      "text/html": [
       "<div>\n",
       "<style scoped>\n",
       "    .dataframe tbody tr th:only-of-type {\n",
       "        vertical-align: middle;\n",
       "    }\n",
       "\n",
       "    .dataframe tbody tr th {\n",
       "        vertical-align: top;\n",
       "    }\n",
       "\n",
       "    .dataframe thead th {\n",
       "        text-align: right;\n",
       "    }\n",
       "</style>\n",
       "<table border=\"1\" class=\"dataframe\">\n",
       "  <thead>\n",
       "    <tr style=\"text-align: right;\">\n",
       "      <th></th>\n",
       "      <th>Comment</th>\n",
       "      <th>Sentiment</th>\n",
       "    </tr>\n",
       "  </thead>\n",
       "  <tbody>\n",
       "    <tr>\n",
       "      <th>0</th>\n",
       "      <td>lets not forget that apple pay in 2014 require...</td>\n",
       "      <td>1</td>\n",
       "    </tr>\n",
       "    <tr>\n",
       "      <th>1</th>\n",
       "      <td>here in nz 50 of retailers don’t even have con...</td>\n",
       "      <td>0</td>\n",
       "    </tr>\n",
       "    <tr>\n",
       "      <th>2</th>\n",
       "      <td>i will forever acknowledge this channel with t...</td>\n",
       "      <td>2</td>\n",
       "    </tr>\n",
       "    <tr>\n",
       "      <th>3</th>\n",
       "      <td>whenever i go to a place that doesn’t take app...</td>\n",
       "      <td>0</td>\n",
       "    </tr>\n",
       "    <tr>\n",
       "      <th>4</th>\n",
       "      <td>apple pay is so convenient secure and easy to ...</td>\n",
       "      <td>2</td>\n",
       "    </tr>\n",
       "  </tbody>\n",
       "</table>\n",
       "</div>"
      ],
      "text/plain": [
       "                                             Comment  Sentiment\n",
       "0  lets not forget that apple pay in 2014 require...          1\n",
       "1  here in nz 50 of retailers don’t even have con...          0\n",
       "2  i will forever acknowledge this channel with t...          2\n",
       "3  whenever i go to a place that doesn’t take app...          0\n",
       "4  apple pay is so convenient secure and easy to ...          2"
      ]
     },
     "execution_count": 5,
     "metadata": {},
     "output_type": "execute_result"
    }
   ],
   "source": [
    "# Replace 'neg' with 0, 'pos' with 1, and 'nue' with 2\n",
    "df['Sentiment'] = df['Sentiment'].replace({'negative': 0, 'neutral': 1, 'positive': 2})\n",
    "\n",
    "df.head()"
   ]
  },
  {
   "cell_type": "code",
   "execution_count": 6,
   "id": "af7e10a7",
   "metadata": {
    "execution": {
     "iopub.execute_input": "2025-01-29T11:13:34.980183Z",
     "iopub.status.busy": "2025-01-29T11:13:34.979710Z",
     "iopub.status.idle": "2025-01-29T11:13:37.799906Z",
     "shell.execute_reply": "2025-01-29T11:13:37.798454Z"
    },
    "papermill": {
     "duration": 2.826774,
     "end_time": "2025-01-29T11:13:37.802306",
     "exception": false,
     "start_time": "2025-01-29T11:13:34.975532",
     "status": "completed"
    },
    "tags": []
   },
   "outputs": [
    {
     "data": {
      "text/html": [
       "<div>\n",
       "<style scoped>\n",
       "    .dataframe tbody tr th:only-of-type {\n",
       "        vertical-align: middle;\n",
       "    }\n",
       "\n",
       "    .dataframe tbody tr th {\n",
       "        vertical-align: top;\n",
       "    }\n",
       "\n",
       "    .dataframe thead th {\n",
       "        text-align: right;\n",
       "    }\n",
       "</style>\n",
       "<table border=\"1\" class=\"dataframe\">\n",
       "  <thead>\n",
       "    <tr style=\"text-align: right;\">\n",
       "      <th></th>\n",
       "      <th>Comment</th>\n",
       "      <th>Sentiment</th>\n",
       "    </tr>\n",
       "  </thead>\n",
       "  <tbody>\n",
       "    <tr>\n",
       "      <th>0</th>\n",
       "      <td>lets forget apple pay 2014 required brand new ...</td>\n",
       "      <td>1</td>\n",
       "    </tr>\n",
       "    <tr>\n",
       "      <th>1</th>\n",
       "      <td>nz 50 retailers don’t even contactless credit ...</td>\n",
       "      <td>0</td>\n",
       "    </tr>\n",
       "    <tr>\n",
       "      <th>2</th>\n",
       "      <td>forever acknowledge channel help lessons ideas...</td>\n",
       "      <td>2</td>\n",
       "    </tr>\n",
       "    <tr>\n",
       "      <th>3</th>\n",
       "      <td>whenever go place doesn’t take apple pay doesn...</td>\n",
       "      <td>0</td>\n",
       "    </tr>\n",
       "    <tr>\n",
       "      <th>4</th>\n",
       "      <td>apple pay convenient secure easy use used kore...</td>\n",
       "      <td>2</td>\n",
       "    </tr>\n",
       "  </tbody>\n",
       "</table>\n",
       "</div>"
      ],
      "text/plain": [
       "                                             Comment  Sentiment\n",
       "0  lets forget apple pay 2014 required brand new ...          1\n",
       "1  nz 50 retailers don’t even contactless credit ...          0\n",
       "2  forever acknowledge channel help lessons ideas...          2\n",
       "3  whenever go place doesn’t take apple pay doesn...          0\n",
       "4  apple pay convenient secure easy use used kore...          2"
      ]
     },
     "execution_count": 6,
     "metadata": {},
     "output_type": "execute_result"
    }
   ],
   "source": [
    "def remove_stopwords(text):\n",
    "    stop_words = set(stopwords.words('english'))\n",
    "    words = text.split()\n",
    "    filtered_words = [word for word in words if word.lower() not in stop_words]\n",
    "    return ' '.join(filtered_words)\n",
    "\n",
    "# Example usage\n",
    "df['Comment'] = df['Comment'].apply(remove_stopwords)\n",
    "df.head()"
   ]
  },
  {
   "cell_type": "code",
   "execution_count": 7,
   "id": "86bd853b",
   "metadata": {
    "execution": {
     "iopub.execute_input": "2025-01-29T11:13:37.811734Z",
     "iopub.status.busy": "2025-01-29T11:13:37.811264Z",
     "iopub.status.idle": "2025-01-29T11:13:38.509889Z",
     "shell.execute_reply": "2025-01-29T11:13:38.508640Z"
    },
    "papermill": {
     "duration": 0.705917,
     "end_time": "2025-01-29T11:13:38.512552",
     "exception": false,
     "start_time": "2025-01-29T11:13:37.806635",
     "status": "completed"
    },
    "tags": []
   },
   "outputs": [],
   "source": [
    "# Step 2: Split the data into features (X) and target (y)\n",
    "X = df['Comment']  \n",
    "y = df['Sentiment']\n",
    "# Step 3: Split the dataset into training and testing sets (80% train, 20% test)\n",
    "X_train, X_test, y_train, y_test = train_test_split(X, y, test_size=0.2, random_state=42)\n",
    "# Step 4: Convert text data into numerical features using TF-IDF Vectorizer\n",
    "vectorizer = TfidfVectorizer(max_features=5000) \n",
    "X_train_tfidf = vectorizer.fit_transform(X_train)\n",
    "X_test_tfidf = vectorizer.transform(X_test)"
   ]
  },
  {
   "cell_type": "code",
   "execution_count": 8,
   "id": "ddd71193",
   "metadata": {
    "execution": {
     "iopub.execute_input": "2025-01-29T11:13:38.521488Z",
     "iopub.status.busy": "2025-01-29T11:13:38.521033Z",
     "iopub.status.idle": "2025-01-29T11:14:50.713405Z",
     "shell.execute_reply": "2025-01-29T11:14:50.711570Z"
    },
    "papermill": {
     "duration": 72.199596,
     "end_time": "2025-01-29T11:14:50.715878",
     "exception": false,
     "start_time": "2025-01-29T11:13:38.516282",
     "status": "completed"
    },
    "tags": []
   },
   "outputs": [
    {
     "name": "stdout",
     "output_type": "stream",
     "text": [
      "\n",
      "Training Logistic Regression...\n",
      "Accuracy Score for Logistic Regression: 0.7503403212632725\n",
      "Classification Report for Logistic Regression:\n",
      "              precision    recall  f1-score   support\n",
      "\n",
      "           0       0.65      0.26      0.37       441\n",
      "           1       0.63      0.55      0.59       912\n",
      "           2       0.79      0.92      0.85      2320\n",
      "\n",
      "    accuracy                           0.75      3673\n",
      "   macro avg       0.69      0.58      0.60      3673\n",
      "weighted avg       0.73      0.75      0.73      3673\n",
      "\n",
      "\n",
      "Training Random Forest...\n",
      "Accuracy Score for Random Forest: 0.7353661856792812\n",
      "Classification Report for Random Forest:\n",
      "              precision    recall  f1-score   support\n",
      "\n",
      "           0       0.59      0.18      0.27       441\n",
      "           1       0.63      0.55      0.59       912\n",
      "           2       0.77      0.91      0.84      2320\n",
      "\n",
      "    accuracy                           0.74      3673\n",
      "   macro avg       0.67      0.55      0.57      3673\n",
      "weighted avg       0.72      0.74      0.71      3673\n",
      "\n",
      "\n",
      "Training SVM...\n",
      "Accuracy Score for SVM: 0.7506125782738906\n",
      "Classification Report for SVM:\n",
      "              precision    recall  f1-score   support\n",
      "\n",
      "           0       0.57      0.36      0.44       441\n",
      "           1       0.60      0.60      0.60       912\n",
      "           2       0.83      0.88      0.85      2320\n",
      "\n",
      "    accuracy                           0.75      3673\n",
      "   macro avg       0.67      0.62      0.63      3673\n",
      "weighted avg       0.74      0.75      0.74      3673\n",
      "\n",
      "\n",
      "Training XGBoost...\n",
      "Accuracy Score for XGBoost: 0.744350667029676\n",
      "Classification Report for XGBoost:\n",
      "              precision    recall  f1-score   support\n",
      "\n",
      "           0       0.61      0.25      0.36       441\n",
      "           1       0.60      0.64      0.62       912\n",
      "           2       0.81      0.88      0.84      2320\n",
      "\n",
      "    accuracy                           0.74      3673\n",
      "   macro avg       0.67      0.59      0.61      3673\n",
      "weighted avg       0.73      0.74      0.73      3673\n",
      "\n",
      "\n",
      "Training Naive Bayes...\n",
      "Accuracy Score for Naive Bayes: 0.6923495780016335\n",
      "Classification Report for Naive Bayes:\n",
      "              precision    recall  f1-score   support\n",
      "\n",
      "           0       0.65      0.15      0.24       441\n",
      "           1       0.72      0.27      0.39       912\n",
      "           2       0.69      0.96      0.80      2320\n",
      "\n",
      "    accuracy                           0.69      3673\n",
      "   macro avg       0.69      0.46      0.48      3673\n",
      "weighted avg       0.69      0.69      0.63      3673\n",
      "\n"
     ]
    }
   ],
   "source": [
    "# Step 5: Initialize models\n",
    "models = {\n",
    "    \"Logistic Regression\": LogisticRegression(multi_class='ovr', max_iter=1000),\n",
    "    \"Random Forest\": RandomForestClassifier(n_estimators=100, random_state=42),\n",
    "    \"SVM\": SVC(kernel='linear', random_state=42),\n",
    "    \"XGBoost\": XGBClassifier(eval_metric='mlogloss', random_state=42),\n",
    "    \"Naive Bayes\": MultinomialNB()\n",
    "}\n",
    "# Step 6: Train and evaluate each model\n",
    "for model_name, model in models.items():\n",
    "    print(f\"\\nTraining {model_name}...\")\n",
    "    model.fit(X_train_tfidf, y_train)\n",
    "    \n",
    "    # Predict the sentiments for the test set\n",
    "    y_pred = model.predict(X_test_tfidf)\n",
    "    \n",
    "    # Evaluate the model\n",
    "    print(f\"Accuracy Score for {model_name}: {accuracy_score(y_test, y_pred)}\")\n",
    "    print(f\"Classification Report for {model_name}:\\n{classification_report(y_test, y_pred)}\")"
   ]
  }
 ],
 "metadata": {
  "kaggle": {
   "accelerator": "none",
   "dataSources": [
    {
     "datasetId": 6560918,
     "sourceId": 10599713,
     "sourceType": "datasetVersion"
    }
   ],
   "dockerImageVersionId": 30839,
   "isGpuEnabled": false,
   "isInternetEnabled": true,
   "language": "python",
   "sourceType": "notebook"
  },
  "kernelspec": {
   "display_name": "Python 3",
   "language": "python",
   "name": "python3"
  },
  "language_info": {
   "codemirror_mode": {
    "name": "ipython",
    "version": 3
   },
   "file_extension": ".py",
   "mimetype": "text/x-python",
   "name": "python",
   "nbconvert_exporter": "python",
   "pygments_lexer": "ipython3",
   "version": "3.10.12"
  },
  "papermill": {
   "default_parameters": {},
   "duration": 84.015277,
   "end_time": "2025-01-29T11:14:51.644369",
   "environment_variables": {},
   "exception": null,
   "input_path": "__notebook__.ipynb",
   "output_path": "__notebook__.ipynb",
   "parameters": {},
   "start_time": "2025-01-29T11:13:27.629092",
   "version": "2.6.0"
  }
 },
 "nbformat": 4,
 "nbformat_minor": 5
}
